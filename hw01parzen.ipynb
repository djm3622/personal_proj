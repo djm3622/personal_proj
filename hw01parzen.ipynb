{
 "cells": [
  {
   "cell_type": "markdown",
   "id": "ab6f18d1",
   "metadata": {
    "_cell_guid": "7959b21b-7732-4f4d-960a-1f09eeeb6e87",
    "_uuid": "fb06d174-d3c4-4b84-ac31-634b4a1d5629",
    "papermill": {
     "duration": 0.010199,
     "end_time": "2023-02-03T17:05:48.618710",
     "exception": false,
     "start_time": "2023-02-03T17:05:48.608511",
     "status": "completed"
    },
    "tags": []
   },
   "source": [
    "# Importing the Data\n",
    "\n",
    "> This dataset is the csv file from MyCourses but is private for security."
   ]
  },
  {
   "cell_type": "code",
   "execution_count": 1,
   "id": "dfc07901",
   "metadata": {
    "_cell_guid": "e295588a-5bc0-4fea-a95d-9e434a9f2ab8",
    "_uuid": "23e52fe4-aeff-4f18-b47d-36db5091922b",
    "collapsed": false,
    "execution": {
     "iopub.execute_input": "2023-02-03T17:05:48.640183Z",
     "iopub.status.busy": "2023-02-03T17:05:48.639452Z",
     "iopub.status.idle": "2023-02-03T17:05:50.017152Z",
     "shell.execute_reply": "2023-02-03T17:05:50.015738Z"
    },
    "jupyter": {
     "outputs_hidden": false
    },
    "papermill": {
     "duration": 1.392943,
     "end_time": "2023-02-03T17:05:50.020801",
     "exception": false,
     "start_time": "2023-02-03T17:05:48.627858",
     "status": "completed"
    },
    "tags": []
   },
   "outputs": [],
   "source": [
    "import pandas as pd\n",
    "import numpy as np\n",
    "import seaborn as sns\n",
    "%matplotlib inline\n",
    "import matplotlib.pyplot as plt\n",
    "import math"
   ]
  },
  {
   "cell_type": "markdown",
   "id": "b1c9ac3b",
   "metadata": {
    "_cell_guid": "40aa846d-e6bc-425e-b87f-6b6a0546b315",
    "_uuid": "a9c375a0-1ee0-46d3-933b-647e1c8ee334",
    "papermill": {
     "duration": 0.008326,
     "end_time": "2023-02-03T17:05:50.038863",
     "exception": false,
     "start_time": "2023-02-03T17:05:50.030537",
     "status": "completed"
    },
    "tags": []
   },
   "source": [
    "Reading in the Data."
   ]
  },
  {
   "cell_type": "code",
   "execution_count": 2,
   "id": "2b130bea",
   "metadata": {
    "_cell_guid": "f9595e0f-d0eb-4022-bcb5-f1d105fffd8d",
    "_uuid": "10d07c5c-349e-473d-9705-d98833aef7dd",
    "collapsed": false,
    "execution": {
     "iopub.execute_input": "2023-02-03T17:05:50.058253Z",
     "iopub.status.busy": "2023-02-03T17:05:50.057830Z",
     "iopub.status.idle": "2023-02-03T17:05:50.088884Z",
     "shell.execute_reply": "2023-02-03T17:05:50.087766Z"
    },
    "jupyter": {
     "outputs_hidden": false
    },
    "papermill": {
     "duration": 0.044457,
     "end_time": "2023-02-03T17:05:50.091949",
     "exception": false,
     "start_time": "2023-02-03T17:05:50.047492",
     "status": "completed"
    },
    "tags": []
   },
   "outputs": [],
   "source": [
    "df = pd.read_csv('/kaggle/input/420hw01/Data_for_Discrete_Events (3).csv')\n",
    "\n",
    "day_data = {} # setting up a dict to write the 24 hour -> day converstion to"
   ]
  },
  {
   "cell_type": "markdown",
   "id": "06610f30",
   "metadata": {
    "_cell_guid": "30b26900-3300-425d-9015-ade93c0565bc",
    "_uuid": "03cce0a0-db95-4257-878f-09b2d137ebef",
    "papermill": {
     "duration": 0.008471,
     "end_time": "2023-02-03T17:05:50.109521",
     "exception": false,
     "start_time": "2023-02-03T17:05:50.101050",
     "status": "completed"
    },
    "tags": []
   },
   "source": [
    "Taking a look at the data."
   ]
  },
  {
   "cell_type": "code",
   "execution_count": 3,
   "id": "4e32e6e4",
   "metadata": {
    "_cell_guid": "0323cc79-2719-41fd-ac4f-929d22746784",
    "_uuid": "4f18bb9c-b620-427c-af02-f04275cb5063",
    "collapsed": false,
    "execution": {
     "iopub.execute_input": "2023-02-03T17:05:50.129763Z",
     "iopub.status.busy": "2023-02-03T17:05:50.128444Z",
     "iopub.status.idle": "2023-02-03T17:05:50.153694Z",
     "shell.execute_reply": "2023-02-03T17:05:50.152247Z"
    },
    "jupyter": {
     "outputs_hidden": false
    },
    "papermill": {
     "duration": 0.039215,
     "end_time": "2023-02-03T17:05:50.157553",
     "exception": false,
     "start_time": "2023-02-03T17:05:50.118338",
     "status": "completed"
    },
    "tags": []
   },
   "outputs": [
    {
     "data": {
      "text/html": [
       "<div>\n",
       "<style scoped>\n",
       "    .dataframe tbody tr th:only-of-type {\n",
       "        vertical-align: middle;\n",
       "    }\n",
       "\n",
       "    .dataframe tbody tr th {\n",
       "        vertical-align: top;\n",
       "    }\n",
       "\n",
       "    .dataframe thead th {\n",
       "        text-align: right;\n",
       "    }\n",
       "</style>\n",
       "<table border=\"1\" class=\"dataframe\">\n",
       "  <thead>\n",
       "    <tr style=\"text-align: right;\">\n",
       "      <th></th>\n",
       "      <th>Hour</th>\n",
       "      <th>NumberOfEvents</th>\n",
       "    </tr>\n",
       "  </thead>\n",
       "  <tbody>\n",
       "    <tr>\n",
       "      <th>0</th>\n",
       "      <td>1</td>\n",
       "      <td>0</td>\n",
       "    </tr>\n",
       "    <tr>\n",
       "      <th>1</th>\n",
       "      <td>2</td>\n",
       "      <td>0</td>\n",
       "    </tr>\n",
       "    <tr>\n",
       "      <th>2</th>\n",
       "      <td>3</td>\n",
       "      <td>0</td>\n",
       "    </tr>\n",
       "    <tr>\n",
       "      <th>3</th>\n",
       "      <td>4</td>\n",
       "      <td>0</td>\n",
       "    </tr>\n",
       "    <tr>\n",
       "      <th>4</th>\n",
       "      <td>5</td>\n",
       "      <td>1</td>\n",
       "    </tr>\n",
       "    <tr>\n",
       "      <th>...</th>\n",
       "      <td>...</td>\n",
       "      <td>...</td>\n",
       "    </tr>\n",
       "    <tr>\n",
       "      <th>1675</th>\n",
       "      <td>1676</td>\n",
       "      <td>0</td>\n",
       "    </tr>\n",
       "    <tr>\n",
       "      <th>1676</th>\n",
       "      <td>1677</td>\n",
       "      <td>0</td>\n",
       "    </tr>\n",
       "    <tr>\n",
       "      <th>1677</th>\n",
       "      <td>1678</td>\n",
       "      <td>0</td>\n",
       "    </tr>\n",
       "    <tr>\n",
       "      <th>1678</th>\n",
       "      <td>1679</td>\n",
       "      <td>0</td>\n",
       "    </tr>\n",
       "    <tr>\n",
       "      <th>1679</th>\n",
       "      <td>1680</td>\n",
       "      <td>0</td>\n",
       "    </tr>\n",
       "  </tbody>\n",
       "</table>\n",
       "<p>1680 rows × 2 columns</p>\n",
       "</div>"
      ],
      "text/plain": [
       "      Hour  NumberOfEvents\n",
       "0        1               0\n",
       "1        2               0\n",
       "2        3               0\n",
       "3        4               0\n",
       "4        5               1\n",
       "...    ...             ...\n",
       "1675  1676               0\n",
       "1676  1677               0\n",
       "1677  1678               0\n",
       "1678  1679               0\n",
       "1679  1680               0\n",
       "\n",
       "[1680 rows x 2 columns]"
      ]
     },
     "execution_count": 3,
     "metadata": {},
     "output_type": "execute_result"
    }
   ],
   "source": [
    "df"
   ]
  },
  {
   "cell_type": "markdown",
   "id": "cbeb77b6",
   "metadata": {
    "_cell_guid": "2449ef9f-0c50-4728-b143-c01896a92626",
    "_uuid": "bd4c4d86-3452-4a61-b8ca-0b03b52681e6",
    "papermill": {
     "duration": 0.008349,
     "end_time": "2023-02-03T17:05:50.174906",
     "exception": false,
     "start_time": "2023-02-03T17:05:50.166557",
     "status": "completed"
    },
    "tags": []
   },
   "source": [
    "Reseting index."
   ]
  },
  {
   "cell_type": "code",
   "execution_count": 4,
   "id": "21c8af68",
   "metadata": {
    "_cell_guid": "1af86be8-c0cc-4f83-9f05-1cd37774c25f",
    "_uuid": "6f72bf12-e437-4f57-84a4-862d97087a4a",
    "collapsed": false,
    "execution": {
     "iopub.execute_input": "2023-02-03T17:05:50.196005Z",
     "iopub.status.busy": "2023-02-03T17:05:50.195510Z",
     "iopub.status.idle": "2023-02-03T17:05:50.214608Z",
     "shell.execute_reply": "2023-02-03T17:05:50.213426Z"
    },
    "jupyter": {
     "outputs_hidden": false
    },
    "papermill": {
     "duration": 0.032247,
     "end_time": "2023-02-03T17:05:50.217265",
     "exception": false,
     "start_time": "2023-02-03T17:05:50.185018",
     "status": "completed"
    },
    "tags": []
   },
   "outputs": [
    {
     "data": {
      "text/html": [
       "<div>\n",
       "<style scoped>\n",
       "    .dataframe tbody tr th:only-of-type {\n",
       "        vertical-align: middle;\n",
       "    }\n",
       "\n",
       "    .dataframe tbody tr th {\n",
       "        vertical-align: top;\n",
       "    }\n",
       "\n",
       "    .dataframe thead th {\n",
       "        text-align: right;\n",
       "    }\n",
       "</style>\n",
       "<table border=\"1\" class=\"dataframe\">\n",
       "  <thead>\n",
       "    <tr style=\"text-align: right;\">\n",
       "      <th></th>\n",
       "      <th>NumberOfEvents</th>\n",
       "    </tr>\n",
       "    <tr>\n",
       "      <th>Hour</th>\n",
       "      <th></th>\n",
       "    </tr>\n",
       "  </thead>\n",
       "  <tbody>\n",
       "    <tr>\n",
       "      <th>1</th>\n",
       "      <td>0</td>\n",
       "    </tr>\n",
       "    <tr>\n",
       "      <th>2</th>\n",
       "      <td>0</td>\n",
       "    </tr>\n",
       "    <tr>\n",
       "      <th>3</th>\n",
       "      <td>0</td>\n",
       "    </tr>\n",
       "    <tr>\n",
       "      <th>4</th>\n",
       "      <td>0</td>\n",
       "    </tr>\n",
       "    <tr>\n",
       "      <th>5</th>\n",
       "      <td>1</td>\n",
       "    </tr>\n",
       "    <tr>\n",
       "      <th>...</th>\n",
       "      <td>...</td>\n",
       "    </tr>\n",
       "    <tr>\n",
       "      <th>1676</th>\n",
       "      <td>0</td>\n",
       "    </tr>\n",
       "    <tr>\n",
       "      <th>1677</th>\n",
       "      <td>0</td>\n",
       "    </tr>\n",
       "    <tr>\n",
       "      <th>1678</th>\n",
       "      <td>0</td>\n",
       "    </tr>\n",
       "    <tr>\n",
       "      <th>1679</th>\n",
       "      <td>0</td>\n",
       "    </tr>\n",
       "    <tr>\n",
       "      <th>1680</th>\n",
       "      <td>0</td>\n",
       "    </tr>\n",
       "  </tbody>\n",
       "</table>\n",
       "<p>1680 rows × 1 columns</p>\n",
       "</div>"
      ],
      "text/plain": [
       "      NumberOfEvents\n",
       "Hour                \n",
       "1                  0\n",
       "2                  0\n",
       "3                  0\n",
       "4                  0\n",
       "5                  1\n",
       "...              ...\n",
       "1676               0\n",
       "1677               0\n",
       "1678               0\n",
       "1679               0\n",
       "1680               0\n",
       "\n",
       "[1680 rows x 1 columns]"
      ]
     },
     "execution_count": 4,
     "metadata": {},
     "output_type": "execute_result"
    }
   ],
   "source": [
    "df.set_index('Hour')"
   ]
  },
  {
   "cell_type": "markdown",
   "id": "6b6deeaf",
   "metadata": {
    "_cell_guid": "1aad2372-2aea-4ac4-bd0e-dedac798d7cf",
    "_uuid": "0bdfd7d0-f237-49fb-b29f-2ccd7b82053c",
    "papermill": {
     "duration": 0.008955,
     "end_time": "2023-02-03T17:05:50.235907",
     "exception": false,
     "start_time": "2023-02-03T17:05:50.226952",
     "status": "completed"
    },
    "tags": []
   },
   "source": [
    "Setting bin size."
   ]
  },
  {
   "cell_type": "code",
   "execution_count": 5,
   "id": "d677a676",
   "metadata": {
    "_cell_guid": "e6d9c122-5505-4abe-a0ee-11860a7a850e",
    "_uuid": "4904c71a-8432-40c2-b44d-aaaff7357a95",
    "collapsed": false,
    "execution": {
     "iopub.execute_input": "2023-02-03T17:05:50.256461Z",
     "iopub.status.busy": "2023-02-03T17:05:50.256027Z",
     "iopub.status.idle": "2023-02-03T17:05:50.261832Z",
     "shell.execute_reply": "2023-02-03T17:05:50.260193Z"
    },
    "jupyter": {
     "outputs_hidden": false
    },
    "papermill": {
     "duration": 0.019399,
     "end_time": "2023-02-03T17:05:50.264533",
     "exception": false,
     "start_time": "2023-02-03T17:05:50.245134",
     "status": "completed"
    },
    "tags": []
   },
   "outputs": [],
   "source": [
    "binsize = 24"
   ]
  },
  {
   "cell_type": "markdown",
   "id": "f65ebdab",
   "metadata": {
    "_cell_guid": "0f99b220-28a1-4881-812b-e73fcf0413fb",
    "_uuid": "cd281f7a-64a2-42c2-86ea-fe8b3553390b",
    "papermill": {
     "duration": 0.008783,
     "end_time": "2023-02-03T17:05:50.282712",
     "exception": false,
     "start_time": "2023-02-03T17:05:50.273929",
     "status": "completed"
    },
    "tags": []
   },
   "source": [
    "Using a map function to take each hour and it determines the day based on:\n",
    "> int(hour / binsize+1)\n",
    "\n",
    "> this means that day falling within each interval 0-23 have their values add to dict entry\n",
    "\n",
    "> except block catches the first entry of each interval"
   ]
  },
  {
   "cell_type": "code",
   "execution_count": 6,
   "id": "4b1c28f7",
   "metadata": {
    "_cell_guid": "f8ddb94c-709a-47b2-acdd-a623a62eb021",
    "_uuid": "1dd637f9-e458-48f9-a148-9b3599229830",
    "collapsed": false,
    "execution": {
     "iopub.execute_input": "2023-02-03T17:05:50.303031Z",
     "iopub.status.busy": "2023-02-03T17:05:50.302596Z",
     "iopub.status.idle": "2023-02-03T17:05:50.309656Z",
     "shell.execute_reply": "2023-02-03T17:05:50.308247Z"
    },
    "jupyter": {
     "outputs_hidden": false
    },
    "papermill": {
     "duration": 0.020398,
     "end_time": "2023-02-03T17:05:50.312185",
     "exception": false,
     "start_time": "2023-02-03T17:05:50.291787",
     "status": "completed"
    },
    "tags": []
   },
   "outputs": [],
   "source": [
    "def create_day_data(row):\n",
    "    try:\n",
    "        day_data[int(row['Hour'] / binsize+1)] += row['NumberOfEvents']\n",
    "    except KeyError:\n",
    "        day_data[int(row['Hour'] / binsize+1)] = row['NumberOfEvents']"
   ]
  },
  {
   "cell_type": "code",
   "execution_count": 7,
   "id": "5a206d30",
   "metadata": {
    "_cell_guid": "6594e1a6-8d53-4968-b597-853caf85306c",
    "_uuid": "27a92aa1-3788-4bd7-9a2d-a85cfe1faf08",
    "collapsed": false,
    "execution": {
     "iopub.execute_input": "2023-02-03T17:05:50.333253Z",
     "iopub.status.busy": "2023-02-03T17:05:50.332830Z",
     "iopub.status.idle": "2023-02-03T17:05:50.373835Z",
     "shell.execute_reply": "2023-02-03T17:05:50.372456Z"
    },
    "jupyter": {
     "outputs_hidden": false
    },
    "papermill": {
     "duration": 0.055047,
     "end_time": "2023-02-03T17:05:50.376689",
     "exception": false,
     "start_time": "2023-02-03T17:05:50.321642",
     "status": "completed"
    },
    "tags": []
   },
   "outputs": [
    {
     "data": {
      "text/plain": [
       "0       None\n",
       "1       None\n",
       "2       None\n",
       "3       None\n",
       "4       None\n",
       "        ... \n",
       "1675    None\n",
       "1676    None\n",
       "1677    None\n",
       "1678    None\n",
       "1679    None\n",
       "Length: 1680, dtype: object"
      ]
     },
     "execution_count": 7,
     "metadata": {},
     "output_type": "execute_result"
    }
   ],
   "source": [
    "df.apply(create_day_data, axis=1) # applying above function"
   ]
  },
  {
   "cell_type": "markdown",
   "id": "36d3de03",
   "metadata": {
    "_cell_guid": "ea90933b-ca2e-4956-912a-3fa2990d9249",
    "_uuid": "35f90809-1b15-4b37-b00b-9c52c4160b5e",
    "papermill": {
     "duration": 0.009035,
     "end_time": "2023-02-03T17:05:50.395112",
     "exception": false,
     "start_time": "2023-02-03T17:05:50.386077",
     "status": "completed"
    },
    "tags": []
   },
   "source": [
    "Create dataframe from dict."
   ]
  },
  {
   "cell_type": "code",
   "execution_count": 8,
   "id": "9edf5f4a",
   "metadata": {
    "_cell_guid": "f74350ab-ca82-4263-99e6-4c766b4921af",
    "_uuid": "864700c8-b5df-47b7-99d5-9ac5e263449c",
    "collapsed": false,
    "execution": {
     "iopub.execute_input": "2023-02-03T17:05:50.417702Z",
     "iopub.status.busy": "2023-02-03T17:05:50.416731Z",
     "iopub.status.idle": "2023-02-03T17:05:50.423595Z",
     "shell.execute_reply": "2023-02-03T17:05:50.422498Z"
    },
    "jupyter": {
     "outputs_hidden": false
    },
    "papermill": {
     "duration": 0.021905,
     "end_time": "2023-02-03T17:05:50.426811",
     "exception": false,
     "start_time": "2023-02-03T17:05:50.404906",
     "status": "completed"
    },
    "tags": []
   },
   "outputs": [],
   "source": [
    "daydf = pd.DataFrame.from_dict(day_data, orient='index')"
   ]
  },
  {
   "cell_type": "code",
   "execution_count": 9,
   "id": "e805f864",
   "metadata": {
    "_cell_guid": "9468cd78-7e50-4cb9-a4d9-79e7dbb658bb",
    "_uuid": "8d51a011-00fb-43bc-a147-9edccd9b971d",
    "collapsed": false,
    "execution": {
     "iopub.execute_input": "2023-02-03T17:05:50.448279Z",
     "iopub.status.busy": "2023-02-03T17:05:50.447330Z",
     "iopub.status.idle": "2023-02-03T17:05:50.458861Z",
     "shell.execute_reply": "2023-02-03T17:05:50.457400Z"
    },
    "jupyter": {
     "outputs_hidden": false
    },
    "papermill": {
     "duration": 0.025253,
     "end_time": "2023-02-03T17:05:50.461532",
     "exception": false,
     "start_time": "2023-02-03T17:05:50.436279",
     "status": "completed"
    },
    "tags": []
   },
   "outputs": [
    {
     "data": {
      "text/html": [
       "<div>\n",
       "<style scoped>\n",
       "    .dataframe tbody tr th:only-of-type {\n",
       "        vertical-align: middle;\n",
       "    }\n",
       "\n",
       "    .dataframe tbody tr th {\n",
       "        vertical-align: top;\n",
       "    }\n",
       "\n",
       "    .dataframe thead th {\n",
       "        text-align: right;\n",
       "    }\n",
       "</style>\n",
       "<table border=\"1\" class=\"dataframe\">\n",
       "  <thead>\n",
       "    <tr style=\"text-align: right;\">\n",
       "      <th></th>\n",
       "      <th>0</th>\n",
       "    </tr>\n",
       "  </thead>\n",
       "  <tbody>\n",
       "    <tr>\n",
       "      <th>1</th>\n",
       "      <td>2</td>\n",
       "    </tr>\n",
       "    <tr>\n",
       "      <th>2</th>\n",
       "      <td>2</td>\n",
       "    </tr>\n",
       "    <tr>\n",
       "      <th>3</th>\n",
       "      <td>2</td>\n",
       "    </tr>\n",
       "    <tr>\n",
       "      <th>4</th>\n",
       "      <td>0</td>\n",
       "    </tr>\n",
       "    <tr>\n",
       "      <th>5</th>\n",
       "      <td>3</td>\n",
       "    </tr>\n",
       "  </tbody>\n",
       "</table>\n",
       "</div>"
      ],
      "text/plain": [
       "   0\n",
       "1  2\n",
       "2  2\n",
       "3  2\n",
       "4  0\n",
       "5  3"
      ]
     },
     "execution_count": 9,
     "metadata": {},
     "output_type": "execute_result"
    }
   ],
   "source": [
    "daydf.head()"
   ]
  },
  {
   "cell_type": "markdown",
   "id": "43c4e8b5",
   "metadata": {
    "_cell_guid": "d2a2376b-1dda-4d91-b2cf-c8b8e2a262a2",
    "_uuid": "63b34496-071d-4e9b-857f-bf42f8860756",
    "papermill": {
     "duration": 0.009099,
     "end_time": "2023-02-03T17:05:50.480888",
     "exception": false,
     "start_time": "2023-02-03T17:05:50.471789",
     "status": "completed"
    },
    "tags": []
   },
   "source": [
    "Renaming columns for readability."
   ]
  },
  {
   "cell_type": "code",
   "execution_count": 10,
   "id": "0666df22",
   "metadata": {
    "_cell_guid": "70264ea5-302e-49f9-a9c4-47f21523a0c4",
    "_uuid": "b236ec2e-5ed1-4727-bf83-477a77de14fb",
    "collapsed": false,
    "execution": {
     "iopub.execute_input": "2023-02-03T17:05:50.501931Z",
     "iopub.status.busy": "2023-02-03T17:05:50.501529Z",
     "iopub.status.idle": "2023-02-03T17:05:50.508593Z",
     "shell.execute_reply": "2023-02-03T17:05:50.507230Z"
    },
    "jupyter": {
     "outputs_hidden": false
    },
    "papermill": {
     "duration": 0.02048,
     "end_time": "2023-02-03T17:05:50.510977",
     "exception": false,
     "start_time": "2023-02-03T17:05:50.490497",
     "status": "completed"
    },
    "tags": []
   },
   "outputs": [],
   "source": [
    "daydf.rename(columns={0: '# of Pieces'}, inplace=True)\n",
    "daydf.index.rename('day', inplace=True)"
   ]
  },
  {
   "cell_type": "markdown",
   "id": "bbf12ae4",
   "metadata": {
    "_cell_guid": "99c90bce-2c63-41fc-ab12-2a91d0c3c2d9",
    "_uuid": "d3c96b79-ad9a-4f47-a02b-29ff88a045aa",
    "papermill": {
     "duration": 0.009359,
     "end_time": "2023-02-03T17:05:50.530626",
     "exception": false,
     "start_time": "2023-02-03T17:05:50.521267",
     "status": "completed"
    },
    "tags": []
   },
   "source": [
    "Setting length of days and how many ticks for x axis."
   ]
  },
  {
   "cell_type": "code",
   "execution_count": 11,
   "id": "a69fb5d2",
   "metadata": {
    "_cell_guid": "da2beef2-a826-4831-963a-62f4c9e1a41f",
    "_uuid": "f47a844d-ce45-4f9d-9447-e5d0eb2d6476",
    "collapsed": false,
    "execution": {
     "iopub.execute_input": "2023-02-03T17:05:50.552051Z",
     "iopub.status.busy": "2023-02-03T17:05:50.551013Z",
     "iopub.status.idle": "2023-02-03T17:05:50.556081Z",
     "shell.execute_reply": "2023-02-03T17:05:50.555187Z"
    },
    "jupyter": {
     "outputs_hidden": false
    },
    "papermill": {
     "duration": 0.01819,
     "end_time": "2023-02-03T17:05:50.558377",
     "exception": false,
     "start_time": "2023-02-03T17:05:50.540187",
     "status": "completed"
    },
    "tags": []
   },
   "outputs": [],
   "source": [
    "len_of_days = daydf.shape[0]\n",
    "l = [x for x in range(0, len_of_days, 10)]"
   ]
  },
  {
   "cell_type": "markdown",
   "id": "bfa413df",
   "metadata": {
    "_cell_guid": "d06b8358-c812-42bf-b0f6-80b2177615da",
    "_uuid": "8ea90a78-7f84-4692-a45c-6b8b5ee6abe9",
    "papermill": {
     "duration": 0.00952,
     "end_time": "2023-02-03T17:05:50.577347",
     "exception": false,
     "start_time": "2023-02-03T17:05:50.567827",
     "status": "completed"
    },
    "tags": []
   },
   "source": [
    "Plot the barplot using seaborn. Set figsize and different attr for plot."
   ]
  },
  {
   "cell_type": "code",
   "execution_count": 12,
   "id": "d66fe10c",
   "metadata": {
    "_cell_guid": "2c89bd0e-3ac5-4a42-886d-4854a61d3be0",
    "_uuid": "23f4e62d-f2b1-4223-878c-974735b54b31",
    "collapsed": false,
    "execution": {
     "iopub.execute_input": "2023-02-03T17:05:50.598538Z",
     "iopub.status.busy": "2023-02-03T17:05:50.597827Z",
     "iopub.status.idle": "2023-02-03T17:05:51.136979Z",
     "shell.execute_reply": "2023-02-03T17:05:51.135483Z"
    },
    "jupyter": {
     "outputs_hidden": false
    },
    "papermill": {
     "duration": 0.553521,
     "end_time": "2023-02-03T17:05:51.140344",
     "exception": false,
     "start_time": "2023-02-03T17:05:50.586823",
     "status": "completed"
    },
    "tags": []
   },
   "outputs": [
    {
     "data": {
      "text/plain": [
       "[Text(0.5, 0, 'Time of Event = Day of Semester'),\n",
       " Text(0, 0.5, 'Count'),\n",
       " [<matplotlib.axis.XTick at 0x7f9ecf9fdd10>,\n",
       "  <matplotlib.axis.XTick at 0x7f9ecf9fd650>,\n",
       "  <matplotlib.axis.XTick at 0x7f9ecfa1a050>,\n",
       "  <matplotlib.axis.XTick at 0x7f9ecd7ed310>,\n",
       "  <matplotlib.axis.XTick at 0x7f9ecd7ed410>,\n",
       "  <matplotlib.axis.XTick at 0x7f9ecd7fa190>,\n",
       "  <matplotlib.axis.XTick at 0x7f9ecd7fa210>,\n",
       "  <matplotlib.axis.XTick at 0x7f9ecd7fa610>],\n",
       " Text(0.5, 1.0, 'Events = How many Pieces Submitted for Firing')]"
      ]
     },
     "execution_count": 12,
     "metadata": {},
     "output_type": "execute_result"
    },
    {
     "data": {
      "image/png": "[encoded data removed]",
      "text/plain": [
       "<Figure size 842.4x595.44 with 1 Axes>"
      ]
     },
     "metadata": {
      "needs_background": "light"
     },
     "output_type": "display_data"
    }
   ],
   "source": [
    "fig, ax = plt.subplots()\n",
    "fig.set_size_inches(11.7, 8.27)\n",
    "\n",
    "fire_pieces = sns.barplot(\n",
    "    data=daydf,\n",
    "    x=daydf.index,\n",
    "    y=daydf['# of Pieces'],\n",
    "    ax=ax\n",
    ")\n",
    "\n",
    "fire_pieces.set(\n",
    "    xlabel='Time of Event = Day of Semester', \n",
    "    ylabel='Count',\n",
    "    xticks=l,\n",
    "    title='Events = How many Pieces Submitted for Firing',\n",
    ")"
   ]
  },
  {
   "cell_type": "markdown",
   "id": "17018a2e",
   "metadata": {
    "_cell_guid": "21d61d81-01ed-46f2-bc34-e7e93728cb2e",
    "_uuid": "985dd400-7a26-49c8-a8f3-386cfad11def",
    "papermill": {
     "duration": 0.009483,
     "end_time": "2023-02-03T17:05:51.161544",
     "exception": false,
     "start_time": "2023-02-03T17:05:51.152061",
     "status": "completed"
    },
    "tags": []
   },
   "source": [
    "Compute probability of events based on:\n",
    "> event_per_day / total_num_events"
   ]
  },
  {
   "cell_type": "code",
   "execution_count": 13,
   "id": "7ac58029",
   "metadata": {
    "_cell_guid": "b6caf8c9-d1cd-4685-be51-12923eef6980",
    "_uuid": "04679531-819a-417e-a40d-6fae029620d7",
    "collapsed": false,
    "execution": {
     "iopub.execute_input": "2023-02-03T17:05:51.183597Z",
     "iopub.status.busy": "2023-02-03T17:05:51.183092Z",
     "iopub.status.idle": "2023-02-03T17:05:51.191920Z",
     "shell.execute_reply": "2023-02-03T17:05:51.190458Z"
    },
    "jupyter": {
     "outputs_hidden": false
    },
    "papermill": {
     "duration": 0.023031,
     "end_time": "2023-02-03T17:05:51.194409",
     "exception": false,
     "start_time": "2023-02-03T17:05:51.171378",
     "status": "completed"
    },
    "tags": []
   },
   "outputs": [],
   "source": [
    "daydf_prob = daydf / daydf.sum()\n",
    "daydf_prob.rename(columns={'# of Pieces': 'likelihood of event per day'}, inplace=True)"
   ]
  },
  {
   "cell_type": "markdown",
   "id": "a7f66367",
   "metadata": {
    "_cell_guid": "25cd37d0-aa4c-44e5-81f4-e3e2231289cc",
    "_uuid": "03229583-3c9d-4363-a707-cd896b1461bd",
    "papermill": {
     "duration": 0.009595,
     "end_time": "2023-02-03T17:05:51.214209",
     "exception": false,
     "start_time": "2023-02-03T17:05:51.204614",
     "status": "completed"
    },
    "tags": []
   },
   "source": [
    "Plot the barplot using seaborn. Set figsize and different attr for plot."
   ]
  },
  {
   "cell_type": "code",
   "execution_count": 14,
   "id": "8910e6ae",
   "metadata": {
    "_cell_guid": "da7376ae-85e2-4ee3-8c59-00c687a36c32",
    "_uuid": "2252b3ec-f0d4-4668-943a-706660a73d2c",
    "collapsed": false,
    "execution": {
     "iopub.execute_input": "2023-02-03T17:05:51.237101Z",
     "iopub.status.busy": "2023-02-03T17:05:51.236259Z",
     "iopub.status.idle": "2023-02-03T17:05:51.517873Z",
     "shell.execute_reply": "2023-02-03T17:05:51.516378Z"
    },
    "jupyter": {
     "outputs_hidden": false
    },
    "papermill": {
     "duration": 0.296668,
     "end_time": "2023-02-03T17:05:51.521485",
     "exception": false,
     "start_time": "2023-02-03T17:05:51.224817",
     "status": "completed"
    },
    "tags": []
   },
   "outputs": [
    {
     "data": {
      "text/plain": [
       "[Text(0.5, 0, 'Time of Event = Day of Semester'),\n",
       " Text(0, 0.5, 'Likelihood of Event per Day'),\n",
       " [<matplotlib.axis.XTick at 0x7f9ecd676750>,\n",
       "  <matplotlib.axis.XTick at 0x7f9ecfb28cd0>,\n",
       "  <matplotlib.axis.XTick at 0x7f9ecd6d8f10>,\n",
       "  <matplotlib.axis.XTick at 0x7f9ecd699950>,\n",
       "  <matplotlib.axis.XTick at 0x7f9ecd5ed2d0>,\n",
       "  <matplotlib.axis.XTick at 0x7f9ecd5ed9d0>,\n",
       "  <matplotlib.axis.XTick at 0x7f9ecd5f5050>,\n",
       "  <matplotlib.axis.XTick at 0x7f9ecd5f50d0>],\n",
       " Text(0.5, 1.0, 'Probability of Events Happening per Day')]"
      ]
     },
     "execution_count": 14,
     "metadata": {},
     "output_type": "execute_result"
    },
    {
     "data": {
      "image/png": "[encoded data removed]",
      "text/plain": [
       "<Figure size 842.4x595.44 with 1 Axes>"
      ]
     },
     "metadata": {
      "needs_background": "light"
     },
     "output_type": "display_data"
    }
   ],
   "source": [
    "fig, ax = plt.subplots()\n",
    "fig.set_size_inches(11.7, 8.27)\n",
    "\n",
    "fire_pieces_prob = sns.lineplot(\n",
    "    data=daydf_prob,\n",
    "    x=daydf_prob.index,\n",
    "    y=daydf_prob['likelihood of event per day'],\n",
    "    ax=ax\n",
    ")\n",
    "\n",
    "fire_pieces_prob.set(\n",
    "    xlabel='Time of Event = Day of Semester', \n",
    "    ylabel='Likelihood of Event per Day',\n",
    "    xticks=l,\n",
    "    title='Probability of Events Happening per Day'\n",
    ")"
   ]
  },
  {
   "cell_type": "markdown",
   "id": "ea19330a",
   "metadata": {
    "_cell_guid": "2d32a588-cc68-469f-8307-90134922a9c7",
    "_uuid": "13ac6f2d-8fe1-489b-94d5-732b03fe56b6",
    "papermill": {
     "duration": 0.010471,
     "end_time": "2023-02-03T17:05:51.543240",
     "exception": false,
     "start_time": "2023-02-03T17:05:51.532769",
     "status": "completed"
    },
    "tags": []
   },
   "source": [
    "Create array with gausian coefficients."
   ]
  },
  {
   "cell_type": "code",
   "execution_count": 15,
   "id": "261a350a",
   "metadata": {
    "_cell_guid": "3850a51a-0b7b-4d6b-9d68-98bcd07f2abb",
    "_uuid": "9bf80c9c-6649-4429-9613-1a5af6c70d67",
    "collapsed": false,
    "execution": {
     "iopub.execute_input": "2023-02-03T17:05:51.567228Z",
     "iopub.status.busy": "2023-02-03T17:05:51.566760Z",
     "iopub.status.idle": "2023-02-03T17:05:51.572894Z",
     "shell.execute_reply": "2023-02-03T17:05:51.571520Z"
    },
    "jupyter": {
     "outputs_hidden": false
    },
    "papermill": {
     "duration": 0.021328,
     "end_time": "2023-02-03T17:05:51.575669",
     "exception": false,
     "start_time": "2023-02-03T17:05:51.554341",
     "status": "completed"
    },
    "tags": []
   },
   "outputs": [],
   "source": [
    "gausian_coeff = [0.06, 0.12, 0.20, 0.24, 0.20, 0.12, 0.06]"
   ]
  },
  {
   "cell_type": "markdown",
   "id": "569347c9",
   "metadata": {
    "_cell_guid": "11e64917-44b3-45e3-8194-f58c0e791e3e",
    "_uuid": "743e0bda-6c11-46b8-9b87-8c1e94cf19c2",
    "papermill": {
     "duration": 0.010523,
     "end_time": "2023-02-03T17:05:51.597237",
     "exception": false,
     "start_time": "2023-02-03T17:05:51.586714",
     "status": "completed"
    },
    "tags": []
   },
   "source": [
    "Create probability array with zero edge padding."
   ]
  },
  {
   "cell_type": "code",
   "execution_count": 16,
   "id": "a1582acb",
   "metadata": {
    "_cell_guid": "9ce2867a-d82a-4019-8fce-040c5ac1c867",
    "_uuid": "fd11a4c3-5c69-405f-a698-90a78ea66d05",
    "collapsed": false,
    "execution": {
     "iopub.execute_input": "2023-02-03T17:05:51.621223Z",
     "iopub.status.busy": "2023-02-03T17:05:51.620739Z",
     "iopub.status.idle": "2023-02-03T17:05:51.626498Z",
     "shell.execute_reply": "2023-02-03T17:05:51.625554Z"
    },
    "jupyter": {
     "outputs_hidden": false
    },
    "papermill": {
     "duration": 0.020805,
     "end_time": "2023-02-03T17:05:51.628964",
     "exception": false,
     "start_time": "2023-02-03T17:05:51.608159",
     "status": "completed"
    },
    "tags": []
   },
   "outputs": [],
   "source": [
    "padding_offset = 3\n",
    "padding = padding_offset * [0]\n",
    "daydf_prob_lst = padding + daydf_prob['likelihood of event per day'].tolist() + padding"
   ]
  },
  {
   "cell_type": "markdown",
   "id": "eaa3839a",
   "metadata": {
    "_cell_guid": "d453d861-e865-45ff-bfcc-61fd9fae0ea0",
    "_uuid": "954272c8-5ba2-4c2a-99ec-dd959e52e5c2",
    "papermill": {
     "duration": 0.010611,
     "end_time": "2023-02-03T17:05:51.650987",
     "exception": false,
     "start_time": "2023-02-03T17:05:51.640376",
     "status": "completed"
    },
    "tags": []
   },
   "source": [
    "Create the PDE list by looping through all non zero values and doing a dot product of the 7 values from that value and its edges with the gausian coeff."
   ]
  },
  {
   "cell_type": "code",
   "execution_count": 17,
   "id": "c3ab8f3a",
   "metadata": {
    "_cell_guid": "c6fda37a-65f8-47d3-a877-ed6e74616431",
    "_uuid": "a4113601-c27c-4ae6-9128-692281b73460",
    "collapsed": false,
    "execution": {
     "iopub.execute_input": "2023-02-03T17:05:51.675200Z",
     "iopub.status.busy": "2023-02-03T17:05:51.674518Z",
     "iopub.status.idle": "2023-02-03T17:05:51.680274Z",
     "shell.execute_reply": "2023-02-03T17:05:51.679499Z"
    },
    "jupyter": {
     "outputs_hidden": false
    },
    "papermill": {
     "duration": 0.020942,
     "end_time": "2023-02-03T17:05:51.682940",
     "exception": false,
     "start_time": "2023-02-03T17:05:51.661998",
     "status": "completed"
    },
    "tags": []
   },
   "outputs": [],
   "source": [
    "parzen_lst = []\n",
    "for x in range(padding_offset, len_of_days+padding_offset):\n",
    "    parzen_lst.append(np.dot(gausian_coeff, np.transpose(daydf_prob_lst[x-padding_offset:(x+1)+padding_offset])))"
   ]
  },
  {
   "cell_type": "markdown",
   "id": "fb4a62ed",
   "metadata": {
    "_cell_guid": "c6596f1f-d474-4b3b-871c-e905439e8b2b",
    "_uuid": "49162458-e426-4573-ba92-04d28fec746f",
    "papermill": {
     "duration": 0.010569,
     "end_time": "2023-02-03T17:05:51.704728",
     "exception": false,
     "start_time": "2023-02-03T17:05:51.694159",
     "status": "completed"
    },
    "tags": []
   },
   "source": [
    "Plot the barplot using seaborn. Set figsize and different attr for plot."
   ]
  },
  {
   "cell_type": "code",
   "execution_count": 18,
   "id": "ae160112",
   "metadata": {
    "_cell_guid": "b451b0ec-6add-4eef-957b-123188bfc351",
    "_uuid": "ba2e81b5-6bfe-48ee-b801-765c8f5c438f",
    "collapsed": false,
    "execution": {
     "iopub.execute_input": "2023-02-03T17:05:51.729521Z",
     "iopub.status.busy": "2023-02-03T17:05:51.729053Z",
     "iopub.status.idle": "2023-02-03T17:05:52.055732Z",
     "shell.execute_reply": "2023-02-03T17:05:52.054250Z"
    },
    "jupyter": {
     "outputs_hidden": false
    },
    "papermill": {
     "duration": 0.342418,
     "end_time": "2023-02-03T17:05:52.058945",
     "exception": false,
     "start_time": "2023-02-03T17:05:51.716527",
     "status": "completed"
    },
    "tags": []
   },
   "outputs": [
    {
     "data": {
      "text/plain": [
       "<matplotlib.legend.Legend at 0x7f9ecd5b80d0>"
      ]
     },
     "execution_count": 18,
     "metadata": {},
     "output_type": "execute_result"
    },
    {
     "data": {
      "image/png": "[encoded data removed]",
      "text/plain": [
       "<Figure size 842.4x595.44 with 1 Axes>"
      ]
     },
     "metadata": {
      "needs_background": "light"
     },
     "output_type": "display_data"
    }
   ],
   "source": [
    "fig, ax = plt.subplots()\n",
    "fig.set_size_inches(11.7, 8.27)\n",
    "\n",
    "fire_pieces_parzen = sns.lineplot(\n",
    "    data=[daydf_prob['likelihood of event per day'].tolist(), parzen_lst],\n",
    "    ax=ax\n",
    ")\n",
    "\n",
    "fire_pieces_parzen.set(\n",
    "    xlabel='Time of Event = Day of Semester', \n",
    "    ylabel='Likelihood of Event per Day',\n",
    "    xticks=l,\n",
    "    title='Probability of Events Happening per Day (Gausian Parzen)'\n",
    ")\n",
    "plt.legend(loc='upper right', labels=['Likelihood of Event per Day', 'Gausian PDE'])"
   ]
  },
  {
   "cell_type": "code",
   "execution_count": 19,
   "id": "ac05167b",
   "metadata": {
    "execution": {
     "iopub.execute_input": "2023-02-03T17:05:52.087156Z",
     "iopub.status.busy": "2023-02-03T17:05:52.086681Z",
     "iopub.status.idle": "2023-02-03T17:05:52.362680Z",
     "shell.execute_reply": "2023-02-03T17:05:52.361694Z"
    },
    "papermill": {
     "duration": 0.292189,
     "end_time": "2023-02-03T17:05:52.364982",
     "exception": false,
     "start_time": "2023-02-03T17:05:52.072793",
     "status": "completed"
    },
    "tags": []
   },
   "outputs": [
    {
     "data": {
      "text/plain": [
       "[Text(0.5, 0, 'Time of Event = Day of Semester'),\n",
       " Text(0, 0.5, 'Likelihood of Event per Day'),\n",
       " [<matplotlib.axis.XTick at 0x7f9ecd4f8b50>,\n",
       "  <matplotlib.axis.XTick at 0x7f9ecd4f8c90>,\n",
       "  <matplotlib.axis.XTick at 0x7f9ecd513b10>,\n",
       "  <matplotlib.axis.XTick at 0x7f9ecc4be4d0>,\n",
       "  <matplotlib.axis.XTick at 0x7f9ecc4bea10>,\n",
       "  <matplotlib.axis.XTick at 0x7f9ecc4c9090>,\n",
       "  <matplotlib.axis.XTick at 0x7f9ecc4c9110>,\n",
       "  <matplotlib.axis.XTick at 0x7f9ecc4c9a50>],\n",
       " Text(0.5, 1.0, 'Probability of Events Happening per Day (Gausian Parzen)')]"
      ]
     },
     "execution_count": 19,
     "metadata": {},
     "output_type": "execute_result"
    },
    {
     "data": {
      "image/png": "[encoded data removed]",
      "text/plain": [
       "<Figure size 842.4x595.44 with 1 Axes>"
      ]
     },
     "metadata": {
      "needs_background": "light"
     },
     "output_type": "display_data"
    }
   ],
   "source": [
    "fig, ax = plt.subplots()\n",
    "fig.set_size_inches(11.7, 8.27)\n",
    "\n",
    "fire_pieces_parzen = sns.lineplot(\n",
    "    data=parzen_lst,\n",
    "    ax=ax\n",
    ")\n",
    "\n",
    "fire_pieces_parzen.set(\n",
    "    xlabel='Time of Event = Day of Semester', \n",
    "    ylabel='Likelihood of Event per Day',\n",
    "    xticks=l,\n",
    "    title='Probability of Events Happening per Day (Gausian Parzen)'\n",
    ")"
   ]
  }
 ],
 "metadata": {
  "kernelspec": {
   "display_name": "Python 3",
   "language": "python",
   "name": "python3"
  },
  "language_info": {
   "codemirror_mode": {
    "name": "ipython",
    "version": 3
   },
   "file_extension": ".py",
   "mimetype": "text/x-python",
   "name": "python",
   "nbconvert_exporter": "python",
   "pygments_lexer": "ipython3",
   "version": "3.7.12"
  },
  "papermill": {
   "default_parameters": {},
   "duration": 14.811822,
   "end_time": "2023-02-03T17:05:53.506692",
   "environment_variables": {},
   "exception": null,
   "input_path": "__notebook__.ipynb",
   "output_path": "__notebook__.ipynb",
   "parameters": {},
   "start_time": "2023-02-03T17:05:38.694870",
   "version": "2.3.4"
  }
 },
 "nbformat": 4,
 "nbformat_minor": 5
}
