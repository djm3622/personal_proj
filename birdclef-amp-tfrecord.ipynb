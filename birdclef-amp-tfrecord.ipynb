{
 "cells": [
  {
   "cell_type": "markdown",
   "id": "4e42385f",
   "metadata": {
    "papermill": {
     "duration": 0.006996,
     "end_time": "2023-03-22T20:00:05.547533",
     "exception": false,
     "start_time": "2023-03-22T20:00:05.540537",
     "status": "completed"
    },
    "tags": []
   },
   "source": [
    "# BirdCLEF TFWriter\n",
    "\n",
    "The following is an approach to writing TFRecords for BirdCLEF.\n",
    "\n",
    "# Imports/Setup"
   ]
  },
  {
   "cell_type": "code",
   "execution_count": 1,
   "id": "e10377f3",
   "metadata": {
    "execution": {
     "iopub.execute_input": "2023-03-22T20:00:05.562293Z",
     "iopub.status.busy": "2023-03-22T20:00:05.561879Z",
     "iopub.status.idle": "2023-03-22T20:00:13.879326Z",
     "shell.execute_reply": "2023-03-22T20:00:13.877845Z"
    },
    "papermill": {
     "duration": 8.328367,
     "end_time": "2023-03-22T20:00:13.882413",
     "exception": false,
     "start_time": "2023-03-22T20:00:05.554046",
     "status": "completed"
    },
    "tags": []
   },
   "outputs": [],
   "source": [
    "import numpy as np\n",
    "import matplotlib.pyplot as plt\n",
    "import pandas as pd\n",
    "import os\n",
    "import tensorflow as tf\n",
    "import librosa\n",
    "import tensorflow.keras as keras\n",
    "import tensorflow_io as tfio"
   ]
  },
  {
   "cell_type": "code",
   "execution_count": 2,
   "id": "91170078",
   "metadata": {
    "execution": {
     "iopub.execute_input": "2023-03-22T20:00:13.897978Z",
     "iopub.status.busy": "2023-03-22T20:00:13.896270Z",
     "iopub.status.idle": "2023-03-22T20:00:13.902959Z",
     "shell.execute_reply": "2023-03-22T20:00:13.901713Z"
    },
    "papermill": {
     "duration": 0.017144,
     "end_time": "2023-03-22T20:00:13.905754",
     "exception": false,
     "start_time": "2023-03-22T20:00:13.888610",
     "status": "completed"
    },
    "tags": []
   },
   "outputs": [],
   "source": [
    "taxonomy = '/kaggle/input/birdclef-2023/eBird_Taxonomy_v2021.csv'\n",
    "metadata = '/kaggle/input/birdclef-2023/train_metadata.csv'"
   ]
  },
  {
   "cell_type": "code",
   "execution_count": 3,
   "id": "c0605466",
   "metadata": {
    "execution": {
     "iopub.execute_input": "2023-03-22T20:00:13.919767Z",
     "iopub.status.busy": "2023-03-22T20:00:13.919333Z",
     "iopub.status.idle": "2023-03-22T20:00:14.123610Z",
     "shell.execute_reply": "2023-03-22T20:00:14.122220Z"
    },
    "papermill": {
     "duration": 0.21475,
     "end_time": "2023-03-22T20:00:14.126584",
     "exception": false,
     "start_time": "2023-03-22T20:00:13.911834",
     "status": "completed"
    },
    "tags": []
   },
   "outputs": [],
   "source": [
    "dftax = pd.read_csv(taxonomy)\n",
    "dfmeta = pd.read_csv(metadata)"
   ]
  },
  {
   "cell_type": "markdown",
   "id": "98985471",
   "metadata": {
    "papermill": {
     "duration": 0.005692,
     "end_time": "2023-03-22T20:00:14.138248",
     "exception": false,
     "start_time": "2023-03-22T20:00:14.132556",
     "status": "completed"
    },
    "tags": []
   },
   "source": [
    "# Exclude Some Labels    : (\n",
    "\n",
    "I have chosen to exclude any label with less than 10 instances. \n",
    "\n",
    "Later on I will import instances from **xeno-canto.org** to ensure every label has the bare minimum."
   ]
  },
  {
   "cell_type": "code",
   "execution_count": 4,
   "id": "7b4dd602",
   "metadata": {
    "execution": {
     "iopub.execute_input": "2023-03-22T20:00:14.152032Z",
     "iopub.status.busy": "2023-03-22T20:00:14.151559Z",
     "iopub.status.idle": "2023-03-22T20:00:14.167184Z",
     "shell.execute_reply": "2023-03-22T20:00:14.166265Z"
    },
    "papermill": {
     "duration": 0.025458,
     "end_time": "2023-03-22T20:00:14.169639",
     "exception": false,
     "start_time": "2023-03-22T20:00:14.144181",
     "status": "completed"
    },
    "tags": []
   },
   "outputs": [],
   "source": [
    "exclude_lst = dfmeta['primary_label'].value_counts()[\n",
    "    dfmeta['primary_label'].value_counts() < 10\n",
    "].index.to_list()"
   ]
  },
  {
   "cell_type": "code",
   "execution_count": 5,
   "id": "08848567",
   "metadata": {
    "execution": {
     "iopub.execute_input": "2023-03-22T20:00:14.184350Z",
     "iopub.status.busy": "2023-03-22T20:00:14.183414Z",
     "iopub.status.idle": "2023-03-22T20:00:14.188925Z",
     "shell.execute_reply": "2023-03-22T20:00:14.187967Z"
    },
    "papermill": {
     "duration": 0.015715,
     "end_time": "2023-03-22T20:00:14.191420",
     "exception": false,
     "start_time": "2023-03-22T20:00:14.175705",
     "status": "completed"
    },
    "tags": []
   },
   "outputs": [],
   "source": [
    "def include(row):\n",
    "    if row['primary_label'] in exclude_lst:\n",
    "        return False\n",
    "    return True"
   ]
  },
  {
   "cell_type": "code",
   "execution_count": 6,
   "id": "fd40fbeb",
   "metadata": {
    "execution": {
     "iopub.execute_input": "2023-03-22T20:00:14.206113Z",
     "iopub.status.busy": "2023-03-22T20:00:14.205310Z",
     "iopub.status.idle": "2023-03-22T20:00:14.408417Z",
     "shell.execute_reply": "2023-03-22T20:00:14.407489Z"
    },
    "papermill": {
     "duration": 0.213747,
     "end_time": "2023-03-22T20:00:14.411226",
     "exception": false,
     "start_time": "2023-03-22T20:00:14.197479",
     "status": "completed"
    },
    "tags": []
   },
   "outputs": [],
   "source": [
    "include = dfmeta.apply(include, axis=1)\n",
    "dfmeta_ex = dfmeta[include]"
   ]
  },
  {
   "cell_type": "markdown",
   "id": "7653bd03",
   "metadata": {
    "papermill": {
     "duration": 0.005698,
     "end_time": "2023-03-22T20:00:14.423423",
     "exception": false,
     "start_time": "2023-03-22T20:00:14.417725",
     "status": "completed"
    },
    "tags": []
   },
   "source": [
    "# Handle the Data\n",
    "\n",
    "Since we are dealing with such an inbalance of so many classes the easiest approach is to group the elements by label and then sample each group equally."
   ]
  },
  {
   "cell_type": "code",
   "execution_count": 7,
   "id": "8e51edf4",
   "metadata": {
    "execution": {
     "iopub.execute_input": "2023-03-22T20:00:14.437813Z",
     "iopub.status.busy": "2023-03-22T20:00:14.436614Z",
     "iopub.status.idle": "2023-03-22T20:00:14.592938Z",
     "shell.execute_reply": "2023-03-22T20:00:14.591492Z"
    },
    "papermill": {
     "duration": 0.16652,
     "end_time": "2023-03-22T20:00:14.595833",
     "exception": false,
     "start_time": "2023-03-22T20:00:14.429313",
     "status": "completed"
    },
    "tags": []
   },
   "outputs": [],
   "source": [
    "dfmeta_ex_g = dfmeta_ex.groupby(\"primary_label\")\n",
    "dft = dfmeta_ex_g.sample(frac=0.8, random_state=42)\n",
    "dfv = dfmeta_ex.drop(dft.index)"
   ]
  },
  {
   "cell_type": "code",
   "execution_count": 8,
   "id": "6d7c5a72",
   "metadata": {
    "execution": {
     "iopub.execute_input": "2023-03-22T20:00:14.609620Z",
     "iopub.status.busy": "2023-03-22T20:00:14.609188Z",
     "iopub.status.idle": "2023-03-22T20:00:14.621540Z",
     "shell.execute_reply": "2023-03-22T20:00:14.620275Z"
    },
    "papermill": {
     "duration": 0.023317,
     "end_time": "2023-03-22T20:00:14.625069",
     "exception": false,
     "start_time": "2023-03-22T20:00:14.601752",
     "status": "completed"
    },
    "tags": []
   },
   "outputs": [
    {
     "data": {
      "text/plain": [
       "thrnig1    400\n",
       "barswa     400\n",
       "wlwwar     400\n",
       "comsan     400\n",
       "eaywag1    400\n",
       "          ... \n",
       "rostur1      8\n",
       "whbcan1      8\n",
       "brcale1      8\n",
       "gybfis1      8\n",
       "purgre2      8\n",
       "Name: primary_label, Length: 217, dtype: int64"
      ]
     },
     "execution_count": 8,
     "metadata": {},
     "output_type": "execute_result"
    }
   ],
   "source": [
    "dft['primary_label'].value_counts()"
   ]
  },
  {
   "cell_type": "code",
   "execution_count": 9,
   "id": "4695fe15",
   "metadata": {
    "execution": {
     "iopub.execute_input": "2023-03-22T20:00:14.640412Z",
     "iopub.status.busy": "2023-03-22T20:00:14.639255Z",
     "iopub.status.idle": "2023-03-22T20:00:14.650313Z",
     "shell.execute_reply": "2023-03-22T20:00:14.649070Z"
    },
    "papermill": {
     "duration": 0.020679,
     "end_time": "2023-03-22T20:00:14.652738",
     "exception": false,
     "start_time": "2023-03-22T20:00:14.632059",
     "status": "completed"
    },
    "tags": []
   },
   "outputs": [
    {
     "data": {
      "text/plain": [
       "thrnig1    100\n",
       "barswa     100\n",
       "wlwwar     100\n",
       "comsan     100\n",
       "eaywag1    100\n",
       "          ... \n",
       "bltapa1      2\n",
       "purgre2      2\n",
       "refbar2      2\n",
       "yenspu1      2\n",
       "augbuz1      2\n",
       "Name: primary_label, Length: 217, dtype: int64"
      ]
     },
     "execution_count": 9,
     "metadata": {},
     "output_type": "execute_result"
    }
   ],
   "source": [
    "dfv['primary_label'].value_counts()"
   ]
  },
  {
   "cell_type": "markdown",
   "id": "f6d53143",
   "metadata": {
    "papermill": {
     "duration": 0.006163,
     "end_time": "2023-03-22T20:00:14.665027",
     "exception": false,
     "start_time": "2023-03-22T20:00:14.658864",
     "status": "completed"
    },
    "tags": []
   },
   "source": [
    "Just to make sure we got what we want..."
   ]
  },
  {
   "cell_type": "markdown",
   "id": "61c2a980",
   "metadata": {
    "papermill": {
     "duration": 0.005808,
     "end_time": "2023-03-22T20:00:14.677035",
     "exception": false,
     "start_time": "2023-03-22T20:00:14.671227",
     "status": "completed"
    },
    "tags": []
   },
   "source": [
    "# One Hot Encoding\n",
    "Next we need to setup one hot encoding. Create a tensorflow TextVect layer and predict."
   ]
  },
  {
   "cell_type": "code",
   "execution_count": 10,
   "id": "41ce65eb",
   "metadata": {
    "execution": {
     "iopub.execute_input": "2023-03-22T20:00:14.691364Z",
     "iopub.status.busy": "2023-03-22T20:00:14.690698Z",
     "iopub.status.idle": "2023-03-22T20:00:14.698138Z",
     "shell.execute_reply": "2023-03-22T20:00:14.696708Z"
    },
    "papermill": {
     "duration": 0.017587,
     "end_time": "2023-03-22T20:00:14.700568",
     "exception": false,
     "start_time": "2023-03-22T20:00:14.682981",
     "status": "completed"
    },
    "tags": []
   },
   "outputs": [],
   "source": [
    "unique_lst = dft['primary_label'].unique().tolist()\n",
    "v_len = len(unique_lst)"
   ]
  },
  {
   "cell_type": "code",
   "execution_count": 11,
   "id": "c5fc8875",
   "metadata": {
    "execution": {
     "iopub.execute_input": "2023-03-22T20:00:14.715374Z",
     "iopub.status.busy": "2023-03-22T20:00:14.714942Z",
     "iopub.status.idle": "2023-03-22T20:00:14.841583Z",
     "shell.execute_reply": "2023-03-22T20:00:14.840025Z"
    },
    "papermill": {
     "duration": 0.137603,
     "end_time": "2023-03-22T20:00:14.844705",
     "exception": false,
     "start_time": "2023-03-22T20:00:14.707102",
     "status": "completed"
    },
    "tags": []
   },
   "outputs": [],
   "source": [
    "text_vec =  keras.layers.TextVectorization(\n",
    "    max_tokens=v_len+1,\n",
    "    output_mode='multi_hot',\n",
    "    vocabulary=unique_lst\n",
    ")"
   ]
  },
  {
   "cell_type": "markdown",
   "id": "e0585d7b",
   "metadata": {
    "papermill": {
     "duration": 0.005768,
     "end_time": "2023-03-22T20:00:14.856783",
     "exception": false,
     "start_time": "2023-03-22T20:00:14.851015",
     "status": "completed"
    },
    "tags": []
   },
   "source": [
    "By default tensorflow has a [UNK] token. To deal with it we add a lambda layer taking everything after index 0."
   ]
  },
  {
   "cell_type": "code",
   "execution_count": 12,
   "id": "dc7b2781",
   "metadata": {
    "execution": {
     "iopub.execute_input": "2023-03-22T20:00:14.871274Z",
     "iopub.status.busy": "2023-03-22T20:00:14.870574Z",
     "iopub.status.idle": "2023-03-22T20:00:14.949123Z",
     "shell.execute_reply": "2023-03-22T20:00:14.947777Z"
    },
    "papermill": {
     "duration": 0.089471,
     "end_time": "2023-03-22T20:00:14.952253",
     "exception": false,
     "start_time": "2023-03-22T20:00:14.862782",
     "status": "completed"
    },
    "tags": []
   },
   "outputs": [],
   "source": [
    "model = keras.models.Sequential()\n",
    "model.add(keras.Input(shape=(1,), dtype=tf.string))\n",
    "model.add(text_vec)\n",
    "model.add(keras.layers.Lambda(lambda x: x[:, 1:]))"
   ]
  },
  {
   "cell_type": "markdown",
   "id": "0da1b745",
   "metadata": {
    "papermill": {
     "duration": 0.005966,
     "end_time": "2023-03-22T20:00:14.964478",
     "exception": false,
     "start_time": "2023-03-22T20:00:14.958512",
     "status": "completed"
    },
    "tags": []
   },
   "source": [
    "# IO Functions\n",
    "The function will create a TFExample to write to a record."
   ]
  },
  {
   "cell_type": "code",
   "execution_count": 13,
   "id": "cff4e374",
   "metadata": {
    "execution": {
     "iopub.execute_input": "2023-03-22T20:00:14.978886Z",
     "iopub.status.busy": "2023-03-22T20:00:14.978294Z",
     "iopub.status.idle": "2023-03-22T20:00:14.988491Z",
     "shell.execute_reply": "2023-03-22T20:00:14.987260Z"
    },
    "papermill": {
     "duration": 0.020696,
     "end_time": "2023-03-22T20:00:14.991217",
     "exception": false,
     "start_time": "2023-03-22T20:00:14.970521",
     "status": "completed"
    },
    "tags": []
   },
   "outputs": [],
   "source": [
    "from tensorflow.train import BytesList, FloatList, Int64List\n",
    "from tensorflow.train import Feature, Features, Example\n",
    "\n",
    "def get_example(audio_path, label):\n",
    "    audio, sr = librosa.load(audio_path, sr=None)\n",
    "    a = tf.convert_to_tensor(audio)\n",
    "    b = tf.expand_dims(a, axis=1)\n",
    "    \n",
    "    return Example(\n",
    "        features=Features(\n",
    "            feature={\n",
    "                'audio': Feature(bytes_list=BytesList(value=[tfio.audio.encode_mp3(b, sr).numpy()])),\n",
    "                'sr': Feature(int64_list=Int64List(value=[sr])),\n",
    "                'label': Feature(bytes_list=BytesList(value=[tf.io.serialize_tensor(label).numpy()]))\n",
    "            }\n",
    "        )\n",
    "    )"
   ]
  },
  {
   "cell_type": "markdown",
   "id": "1216588f",
   "metadata": {
    "papermill": {
     "duration": 0.00626,
     "end_time": "2023-03-22T20:00:15.003641",
     "exception": false,
     "start_time": "2023-03-22T20:00:14.997381",
     "status": "completed"
    },
    "tags": []
   },
   "source": [
    "# TFWriter\n",
    "Finally, we create a set of paths, setup our writers/stack, and iterate through the dataset. At each iteration we choose the record based on how it will % into the n_shards (adding more randomness) and then compute the image and one-hot encoded label.\n",
    "\n",
    "> making sure to set verbose=0 so we can write in peace"
   ]
  },
  {
   "cell_type": "code",
   "execution_count": 14,
   "id": "451c1681",
   "metadata": {
    "execution": {
     "iopub.execute_input": "2023-03-22T20:00:15.018550Z",
     "iopub.status.busy": "2023-03-22T20:00:15.018101Z",
     "iopub.status.idle": "2023-03-22T20:00:15.026361Z",
     "shell.execute_reply": "2023-03-22T20:00:15.025171Z"
    },
    "papermill": {
     "duration": 0.018213,
     "end_time": "2023-03-22T20:00:15.028530",
     "exception": false,
     "start_time": "2023-03-22T20:00:15.010317",
     "status": "completed"
    },
    "tags": []
   },
   "outputs": [],
   "source": [
    "from contextlib import ExitStack\n",
    "from tqdm import tqdm\n",
    "\n",
    "def write_tfrecords(name, dataset, n_shards=50):\n",
    "    paths = [\"{}.tfrecord-{:02d}-of-{:02d}\".format(name, index, n_shards) for index in range(n_shards)]\n",
    "    \n",
    "    with ExitStack() as stack: \n",
    "        writers = [stack.enter_context(tf.io.TFRecordWriter(path)) for path in paths]\n",
    "        \n",
    "        for i, row in tqdm(dataset.iterrows()):\n",
    "            shard = i % n_shards\n",
    "            audio_path = '/kaggle/input/birdclef-2023/train_audio/' + row['filename']\n",
    "            label = model.predict([row['primary_label']], verbose=0).tolist()[0]\n",
    "            example = get_example(audio_path, label)\n",
    "            writers[shard].write(example.SerializeToString())\n",
    "            \n",
    "    print('Done writing ' + name + '.')"
   ]
  },
  {
   "cell_type": "code",
   "execution_count": 15,
   "id": "9919f059",
   "metadata": {
    "execution": {
     "iopub.execute_input": "2023-03-22T20:00:15.043009Z",
     "iopub.status.busy": "2023-03-22T20:00:15.042250Z",
     "iopub.status.idle": "2023-03-22T22:00:19.782928Z",
     "shell.execute_reply": "2023-03-22T22:00:19.780899Z"
    },
    "papermill": {
     "duration": 7204.753532,
     "end_time": "2023-03-22T22:00:19.788145",
     "exception": false,
     "start_time": "2023-03-22T20:00:15.034613",
     "status": "completed"
    },
    "tags": []
   },
   "outputs": [
    {
     "name": "stderr",
     "output_type": "stream",
     "text": [
      "13357it [1:35:55,  2.32it/s]\n"
     ]
    },
    {
     "name": "stdout",
     "output_type": "stream",
     "text": [
      "Done writing train.\n"
     ]
    },
    {
     "name": "stderr",
     "output_type": "stream",
     "text": [
      "3337it [24:09,  2.30it/s]"
     ]
    },
    {
     "name": "stdout",
     "output_type": "stream",
     "text": [
      "Done writing valid.\n"
     ]
    },
    {
     "name": "stderr",
     "output_type": "stream",
     "text": [
      "\n"
     ]
    }
   ],
   "source": [
    "write_tfrecords('train', dft)\n",
    "write_tfrecords('valid', dfv, 25)"
   ]
  },
  {
   "cell_type": "markdown",
   "id": "89846a54",
   "metadata": {
    "papermill": {
     "duration": 1.037054,
     "end_time": "2023-03-22T22:00:21.870811",
     "exception": false,
     "start_time": "2023-03-22T22:00:20.833757",
     "status": "completed"
    },
    "tags": []
   },
   "source": [
    "Sanity check..."
   ]
  },
  {
   "cell_type": "markdown",
   "id": "c90ef789",
   "metadata": {
    "papermill": {
     "duration": 1.040843,
     "end_time": "2023-03-22T22:00:24.070812",
     "exception": false,
     "start_time": "2023-03-22T22:00:23.029969",
     "status": "completed"
    },
    "tags": []
   },
   "source": [
    "# TO BE CONTINUED..."
   ]
  }
 ],
 "metadata": {
  "kernelspec": {
   "display_name": "Python 3",
   "language": "python",
   "name": "python3"
  },
  "language_info": {
   "codemirror_mode": {
    "name": "ipython",
    "version": 3
   },
   "file_extension": ".py",
   "mimetype": "text/x-python",
   "name": "python",
   "nbconvert_exporter": "python",
   "pygments_lexer": "ipython3",
   "version": "3.7.12"
  },
  "papermill": {
   "default_parameters": {},
   "duration": 7233.186948,
   "end_time": "2023-03-22T22:00:28.609750",
   "environment_variables": {},
   "exception": null,
   "input_path": "__notebook__.ipynb",
   "output_path": "__notebook__.ipynb",
   "parameters": {},
   "start_time": "2023-03-22T19:59:55.422802",
   "version": "2.4.0"
  }
 },
 "nbformat": 4,
 "nbformat_minor": 5
}
