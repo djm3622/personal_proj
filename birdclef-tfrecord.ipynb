{
 "cells": [
  {
   "cell_type": "markdown",
   "id": "2c23d084",
   "metadata": {
    "papermill": {
     "duration": 0.005111,
     "end_time": "2023-03-17T03:19:00.084753",
     "exception": false,
     "start_time": "2023-03-17T03:19:00.079642",
     "status": "completed"
    },
    "tags": []
   },
   "source": [
    "# RSNA TFWriter\n",
    "\n",
    "The following is an approach to writing TFRecords for BirdCLEF.\n",
    "\n",
    "# Imports/Setup"
   ]
  },
  {
   "cell_type": "code",
   "execution_count": 1,
   "id": "c3dbbc0a",
   "metadata": {
    "execution": {
     "iopub.execute_input": "2023-03-17T03:19:00.095070Z",
     "iopub.status.busy": "2023-03-17T03:19:00.094582Z",
     "iopub.status.idle": "2023-03-17T03:19:09.982885Z",
     "shell.execute_reply": "2023-03-17T03:19:09.981724Z"
    },
    "papermill": {
     "duration": 9.897287,
     "end_time": "2023-03-17T03:19:09.986243",
     "exception": false,
     "start_time": "2023-03-17T03:19:00.088956",
     "status": "completed"
    },
    "tags": []
   },
   "outputs": [],
   "source": [
    "import numpy as np\n",
    "import matplotlib.pyplot as plt\n",
    "import pandas as pd\n",
    "import os\n",
    "import tensorflow as tf"
   ]
  },
  {
   "cell_type": "code",
   "execution_count": 2,
   "id": "0c4d5706",
   "metadata": {
    "execution": {
     "iopub.execute_input": "2023-03-17T03:19:09.996103Z",
     "iopub.status.busy": "2023-03-17T03:19:09.995340Z",
     "iopub.status.idle": "2023-03-17T03:19:10.000868Z",
     "shell.execute_reply": "2023-03-17T03:19:09.999710Z"
    },
    "papermill": {
     "duration": 0.013121,
     "end_time": "2023-03-17T03:19:10.003292",
     "exception": false,
     "start_time": "2023-03-17T03:19:09.990171",
     "status": "completed"
    },
    "tags": []
   },
   "outputs": [],
   "source": [
    "taxonomy = '/kaggle/input/birdclef-2023/eBird_Taxonomy_v2021.csv'\n",
    "metadata = '/kaggle/input/birdclef-2023/train_metadata.csv'"
   ]
  },
  {
   "cell_type": "code",
   "execution_count": 3,
   "id": "bd7526c1",
   "metadata": {
    "execution": {
     "iopub.execute_input": "2023-03-17T03:19:10.012327Z",
     "iopub.status.busy": "2023-03-17T03:19:10.011955Z",
     "iopub.status.idle": "2023-03-17T03:19:10.227540Z",
     "shell.execute_reply": "2023-03-17T03:19:10.226404Z"
    },
    "papermill": {
     "duration": 0.223608,
     "end_time": "2023-03-17T03:19:10.230618",
     "exception": false,
     "start_time": "2023-03-17T03:19:10.007010",
     "status": "completed"
    },
    "tags": []
   },
   "outputs": [],
   "source": [
    "dftax = pd.read_csv(taxonomy)\n",
    "dfmeta = pd.read_csv(metadata)"
   ]
  },
  {
   "cell_type": "markdown",
   "id": "ecf49c16",
   "metadata": {
    "papermill": {
     "duration": 0.003878,
     "end_time": "2023-03-17T03:19:10.238524",
     "exception": false,
     "start_time": "2023-03-17T03:19:10.234646",
     "status": "completed"
    },
    "tags": []
   },
   "source": [
    "# Exclude Some Labels    : (\n",
    "\n",
    "I have chosen to exclude any label with less than 10 instances. \n",
    "\n",
    "Later on I will import instances from **xeno-canto.org** to ensure every label has the bare minimum."
   ]
  },
  {
   "cell_type": "code",
   "execution_count": 4,
   "id": "3afd651d",
   "metadata": {
    "execution": {
     "iopub.execute_input": "2023-03-17T03:19:10.248697Z",
     "iopub.status.busy": "2023-03-17T03:19:10.248288Z",
     "iopub.status.idle": "2023-03-17T03:19:10.268010Z",
     "shell.execute_reply": "2023-03-17T03:19:10.266581Z"
    },
    "papermill": {
     "duration": 0.028343,
     "end_time": "2023-03-17T03:19:10.270936",
     "exception": false,
     "start_time": "2023-03-17T03:19:10.242593",
     "status": "completed"
    },
    "tags": []
   },
   "outputs": [],
   "source": [
    "exclude_lst = dfmeta['primary_label'].value_counts()[\n",
    "    dfmeta['primary_label'].value_counts() < 10\n",
    "].index.to_list()"
   ]
  },
  {
   "cell_type": "code",
   "execution_count": 5,
   "id": "9b710877",
   "metadata": {
    "execution": {
     "iopub.execute_input": "2023-03-17T03:19:10.280698Z",
     "iopub.status.busy": "2023-03-17T03:19:10.280285Z",
     "iopub.status.idle": "2023-03-17T03:19:10.285603Z",
     "shell.execute_reply": "2023-03-17T03:19:10.284202Z"
    },
    "papermill": {
     "duration": 0.01345,
     "end_time": "2023-03-17T03:19:10.288291",
     "exception": false,
     "start_time": "2023-03-17T03:19:10.274841",
     "status": "completed"
    },
    "tags": []
   },
   "outputs": [],
   "source": [
    "def include(row):\n",
    "    if row['primary_label'] in exclude_lst:\n",
    "        return False\n",
    "    return True"
   ]
  },
  {
   "cell_type": "code",
   "execution_count": 6,
   "id": "59c10cc7",
   "metadata": {
    "execution": {
     "iopub.execute_input": "2023-03-17T03:19:10.298299Z",
     "iopub.status.busy": "2023-03-17T03:19:10.297322Z",
     "iopub.status.idle": "2023-03-17T03:19:10.513094Z",
     "shell.execute_reply": "2023-03-17T03:19:10.511841Z"
    },
    "papermill": {
     "duration": 0.224129,
     "end_time": "2023-03-17T03:19:10.516166",
     "exception": false,
     "start_time": "2023-03-17T03:19:10.292037",
     "status": "completed"
    },
    "tags": []
   },
   "outputs": [],
   "source": [
    "include = dfmeta.apply(include, axis=1)\n",
    "dfmeta_ex = dfmeta[include]"
   ]
  },
  {
   "cell_type": "markdown",
   "id": "1db3d7ed",
   "metadata": {
    "papermill": {
     "duration": 0.003393,
     "end_time": "2023-03-17T03:19:10.523381",
     "exception": false,
     "start_time": "2023-03-17T03:19:10.519988",
     "status": "completed"
    },
    "tags": []
   },
   "source": [
    "# Handle the Data\n",
    "\n",
    "Since we are dealing with such an inbalance of so many classes the easiest approach is to group the elements by label and then sample each group equally."
   ]
  },
  {
   "cell_type": "code",
   "execution_count": 7,
   "id": "80e6f650",
   "metadata": {
    "execution": {
     "iopub.execute_input": "2023-03-17T03:19:10.532835Z",
     "iopub.status.busy": "2023-03-17T03:19:10.532056Z",
     "iopub.status.idle": "2023-03-17T03:19:10.680281Z",
     "shell.execute_reply": "2023-03-17T03:19:10.679001Z"
    },
    "papermill": {
     "duration": 0.156247,
     "end_time": "2023-03-17T03:19:10.683163",
     "exception": false,
     "start_time": "2023-03-17T03:19:10.526916",
     "status": "completed"
    },
    "tags": []
   },
   "outputs": [],
   "source": [
    "dfmeta_ex_g = dfmeta_ex.groupby(\"primary_label\")\n",
    "dft = dfmeta_ex_g.sample(frac=0.8, random_state=42)\n",
    "dfv = dfmeta_ex.drop(dft.index)"
   ]
  },
  {
   "cell_type": "code",
   "execution_count": 8,
   "id": "72f18a22",
   "metadata": {
    "execution": {
     "iopub.execute_input": "2023-03-17T03:19:10.693730Z",
     "iopub.status.busy": "2023-03-17T03:19:10.691877Z",
     "iopub.status.idle": "2023-03-17T03:19:10.707979Z",
     "shell.execute_reply": "2023-03-17T03:19:10.706506Z"
    },
    "papermill": {
     "duration": 0.024281,
     "end_time": "2023-03-17T03:19:10.711276",
     "exception": false,
     "start_time": "2023-03-17T03:19:10.686995",
     "status": "completed"
    },
    "tags": []
   },
   "outputs": [
    {
     "data": {
      "text/plain": [
       "thrnig1    400\n",
       "barswa     400\n",
       "wlwwar     400\n",
       "comsan     400\n",
       "eaywag1    400\n",
       "          ... \n",
       "rostur1      8\n",
       "whbcan1      8\n",
       "brcale1      8\n",
       "gybfis1      8\n",
       "purgre2      8\n",
       "Name: primary_label, Length: 217, dtype: int64"
      ]
     },
     "execution_count": 8,
     "metadata": {},
     "output_type": "execute_result"
    }
   ],
   "source": [
    "dft['primary_label'].value_counts()"
   ]
  },
  {
   "cell_type": "code",
   "execution_count": 9,
   "id": "674bd7f4",
   "metadata": {
    "execution": {
     "iopub.execute_input": "2023-03-17T03:19:10.721191Z",
     "iopub.status.busy": "2023-03-17T03:19:10.720741Z",
     "iopub.status.idle": "2023-03-17T03:19:10.731493Z",
     "shell.execute_reply": "2023-03-17T03:19:10.730033Z"
    },
    "papermill": {
     "duration": 0.018628,
     "end_time": "2023-03-17T03:19:10.734017",
     "exception": false,
     "start_time": "2023-03-17T03:19:10.715389",
     "status": "completed"
    },
    "tags": []
   },
   "outputs": [
    {
     "data": {
      "text/plain": [
       "thrnig1    100\n",
       "barswa     100\n",
       "wlwwar     100\n",
       "comsan     100\n",
       "eaywag1    100\n",
       "          ... \n",
       "bltapa1      2\n",
       "purgre2      2\n",
       "refbar2      2\n",
       "yenspu1      2\n",
       "augbuz1      2\n",
       "Name: primary_label, Length: 217, dtype: int64"
      ]
     },
     "execution_count": 9,
     "metadata": {},
     "output_type": "execute_result"
    }
   ],
   "source": [
    "dfv['primary_label'].value_counts()"
   ]
  },
  {
   "cell_type": "markdown",
   "id": "6f51472f",
   "metadata": {
    "papermill": {
     "duration": 0.003751,
     "end_time": "2023-03-17T03:19:10.742007",
     "exception": false,
     "start_time": "2023-03-17T03:19:10.738256",
     "status": "completed"
    },
    "tags": []
   },
   "source": [
    "Just to make sure we got what we want..."
   ]
  },
  {
   "cell_type": "markdown",
   "id": "1fb67674",
   "metadata": {
    "papermill": {
     "duration": 0.003612,
     "end_time": "2023-03-17T03:19:10.749524",
     "exception": false,
     "start_time": "2023-03-17T03:19:10.745912",
     "status": "completed"
    },
    "tags": []
   },
   "source": [
    "# TO BE CONTINUED..."
   ]
  }
 ],
 "metadata": {
  "kernelspec": {
   "display_name": "Python 3",
   "language": "python",
   "name": "python3"
  },
  "language_info": {
   "codemirror_mode": {
    "name": "ipython",
    "version": 3
   },
   "file_extension": ".py",
   "mimetype": "text/x-python",
   "name": "python",
   "nbconvert_exporter": "python",
   "pygments_lexer": "ipython3",
   "version": "3.7.12"
  },
  "papermill": {
   "default_parameters": {},
   "duration": 27.672553,
   "end_time": "2023-03-17T03:19:14.217474",
   "environment_variables": {},
   "exception": null,
   "input_path": "__notebook__.ipynb",
   "output_path": "__notebook__.ipynb",
   "parameters": {},
   "start_time": "2023-03-17T03:18:46.544921",
   "version": "2.4.0"
  }
 },
 "nbformat": 4,
 "nbformat_minor": 5
}
